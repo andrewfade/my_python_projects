{
 "cells": [
  {
   "cell_type": "code",
   "execution_count": 60,
   "metadata": {},
   "outputs": [],
   "source": [
    "import time\n",
    "from binance.client import Client\n",
    "from binance.enums import *\n",
    "import pandas as pd\n",
    "import numpy as np\n",
    "from cre import api_key, api_secret, pairs\n",
    "import requests"
   ]
  },
  {
   "cell_type": "code",
   "execution_count": 61,
   "metadata": {},
   "outputs": [],
   "source": [
    "def telegram_bot(bot_message):\n",
    "    \n",
    "    bot_token = '5062338559:AAGKbMgOxfoL4h7Xbub5QqctNKJh25EvBZA'\n",
    "    bot_chatID = '1826283117'\n",
    "    send_text = 'https://api.telegram.org/bot' + bot_token + '/sendMessage?chat_id=' + bot_chatID + '&parse_mode=Markdown&text=' + bot_message\n",
    "\n",
    "    response = requests.get(send_text)\n",
    "\n",
    "    return response.json()"
   ]
  },
  {
   "cell_type": "code",
   "execution_count": 62,
   "metadata": {},
   "outputs": [],
   "source": [
    "def computeRSI (data, time_window):\n",
    "    diff = np.diff(data)\n",
    "    up_chg = 0 * diff\n",
    "    down_chg = 0 * diff\n",
    "    \n",
    "    # up change is equal to the positive difference, otherwise equal to zero\n",
    "    up_chg[diff > 0] = diff[ diff>0 ]\n",
    "    \n",
    "    # down change is equal to negative deifference, otherwise equal to zero\n",
    "    down_chg[diff < 0] = diff[ diff < 0 ]\n",
    "\n",
    "    up_chg = pd.DataFrame(up_chg)\n",
    "    down_chg = pd.DataFrame(down_chg)\n",
    "    \n",
    "    up_chg_avg   = up_chg.ewm(com=time_window-1 , min_periods=time_window).mean()\n",
    "    down_chg_avg = down_chg.ewm(com=time_window-1 , min_periods=time_window).mean()\n",
    "    \n",
    "    rs = abs(up_chg_avg/down_chg_avg)\n",
    "    rsi = 100 - 100/(1+rs)\n",
    "    rsi = int(rsi[0].iloc[-1])\n",
    "    return rsi"
   ]
  },
  {
   "cell_type": "code",
   "execution_count": 63,
   "metadata": {},
   "outputs": [],
   "source": [
    "client = Client(api_key, api_secret)"
   ]
  },
  {
   "cell_type": "code",
   "execution_count": 71,
   "metadata": {},
   "outputs": [
    {
     "data": {
      "text/plain": [
       "292"
      ]
     },
     "execution_count": 71,
     "metadata": {},
     "output_type": "execute_result"
    }
   ],
   "source": [
    "pairs = ['ETHUSDT', 'BCCUSDT', 'NEOUSDT', 'LTCUSDT', 'QTUMUSDT', 'ADAUSDT', 'XRPUSDT', 'EOSUSDT', 'IOTAUSDT', 'XLMUSDT', 'ONTUSDT', 'TRXUSDT', 'ETCUSDT', 'ICXUSDT', 'NULSUSDT', 'VETUSDT',  'BCHUSDT', 'LINKUSDT', 'WAVESUSDT', 'BTTUSDT',  'ONGUSDT', 'HOTUSDT', 'ZILUSDT', 'ZRXUSDT', 'FETUSDT', 'BATUSDT', 'XMRUSDT', 'ZECUSDT', 'IOSTUSDT', 'CELRUSDT', 'DASHUSDT', 'NANOUSDT', 'OMGUSDT', 'THETAUSDT', 'ENJUSDT', 'MITHUSDT', 'MATICUSDT', 'ATOMUSDT', 'TFUELUSDT', 'ONEUSDT', 'FTMUSDT', 'ALGOUSDT',  'GTOUSDT', 'ERDUSDT', 'DOGEUSDT', 'DUSKUSDT', 'ANKRUSDT', 'WINUSDT', 'COSUSDT', 'NPXSUSDT', 'COCOSUSDT', 'MTLUSDT', 'TOMOUSDT', 'PERLUSDT', 'DENTUSDT', 'MFTUSDT', 'KEYUSDT', 'STORMUSDT', 'DOCKUSDT', 'WANUSDT', 'FUNUSDT', 'CVCUSDT', 'CHZUSDT', 'BANDUSDT', 'BEAMUSDT', 'XTZUSDT', 'RENUSDT', 'RVNUSDT', 'HCUSDT', 'HBARUSDT', 'NKNUSDT', 'STXUSDT', 'KAVAUSDT', 'ARPAUSDT', 'IOTXUSDT', 'RLCUSDT', 'MCOUSDT', 'CTXCUSDT', 'TROYUSDT', 'VITEUSDT', 'FTTUSDT', 'EURUSDT', 'OGNUSDT', 'DREPUSDT',  'TCTUSDT', 'WRXUSDT', 'BTSUSDT', 'LSKUSDT', 'BNTUSDT', 'LTOUSDT',  'AIONUSDT', 'MBLUSDT', 'COTIUSDT',  'STPTUSDT', 'WTCUSDT', 'DATAUSDT', 'XZCUSDT', 'SOLUSDT', 'CTSIUSDT', 'HIVEUSDT', 'CHRUSDT',   'GXSUSDT', 'ARDRUSDT', 'LENDUSDT', 'MDTUSDT', 'STMXUSDT', 'KNCUSDT', 'REPUSDT', 'LRCUSDT', 'PNTUSDT', 'COMPUSDT', 'BKRWUSDT', 'SCUSDT', 'ZENUSDT', 'SNXUSDT',  'VTHOUSDT', 'DGBUSDT', 'GBPUSDT', 'SXPUSDT', 'MKRUSDT', 'DAIUSDT', 'DCRUSDT', 'STORJUSDT', 'MANAUSDT', 'AUDUSDT', 'YFIUSDT', 'BALUSDT', 'BLZUSDT', 'IRISUSDT', 'KMDUSDT', 'JSTUSDT', 'SRMUSDT', 'ANTUSDT', 'CRVUSDT', 'SANDUSDT', 'OCEANUSDT', 'NMRUSDT', 'DOTUSDT', 'LUNAUSDT', 'RSRUSDT', 'PAXGUSDT', 'WNXMUSDT', 'TRBUSDT', 'BZRXUSDT', 'SUSHIUSDT', 'YFIIUSDT', 'KSMUSDT', 'EGLDUSDT', 'DIAUSDT', 'RUNEUSDT', 'FIOUSDT', 'UMAUSDT','BELUSDT', 'WINGUSDT',  'UNIUSDT', 'NBSUSDT', 'OXTUSDT', 'SUNUSDT', 'AVAXUSDT', 'HNTUSDT', 'FLMUSDT',  'ORNUSDT', 'UTKUSDT', 'XVSUSDT', 'ALPHAUSDT', 'AAVEUSDT', 'NEARUSDT', 'FILUSDT', 'INJUSDT', 'AUDIOUSDT', 'CTKUSDT',  'AKROUSDT', 'AXSUSDT', 'HARDUSDT', 'DNTUSDT', 'STRAXUSDT', 'UNFIUSDT', 'ROSEUSDT', 'AVAUSDT', 'XEMUSDT',  'SKLUSDT', 'SUSDUSDT', 'GRTUSDT', 'JUVUSDT', 'PSGUSDT', '1INCHUSDT', 'REEFUSDT', 'OGUSDT', 'ATMUSDT', 'ASRUSDT', 'CELOUSDT', 'RIFUSDT', 'BTCSTUSDT', 'TRUUSDT', 'CKBUSDT', 'TWTUSDT', 'FIROUSDT', 'LITUSDT', 'SFPUSDT', 'DODOUSDT', 'CAKEUSDT', 'ACMUSDT', 'BADGERUSDT', 'FISUSDT', 'OMUSDT', 'PONDUSDT', 'DEGOUSDT', 'ALICEUSDT', 'LINAUSDT', 'PERPUSDT', 'RAMPUSDT', 'SUPERUSDT', 'CFXUSDT', 'EPSUSDT', 'AUTOUSDT', 'TKOUSDT', 'PUNDIXUSDT', 'TLMUSDT',  'BTGUSDT', 'MIRUSDT', 'BARUSDT', 'FORTHUSDT', 'BAKEUSDT', 'BURGERUSDT', 'SLPUSDT', 'SHIBUSDT', 'ICPUSDT', 'ARUSDT', 'POLSUSDT', 'MDXUSDT', 'MASKUSDT', 'LPTUSDT', 'NUUSDT', 'XVGUSDT', 'ATAUSDT', 'GTCUSDT', 'TORNUSDT', 'KEEPUSDT', 'ERNUSDT', 'KLAYUSDT', 'PHAUSDT', 'BONDUSDT', 'MLNUSDT', 'DEXEUSDT', 'C98USDT', 'CLVUSDT', 'QNTUSDT', 'FLOWUSDT', 'TVKUSDT', 'MINAUSDT', 'RAYUSDT', 'FARMUSDT', 'ALPACAUSDT', 'QUICKUSDT', 'MBOXUSDT', 'FORUSDT', 'REQUSDT', 'GHSTUSDT', 'WAXPUSDT', 'TRIBEUSDT', 'GNOUSDT', 'XECUSDT', 'ELFUSDT', 'DYDXUSDT', 'POLYUSDT', 'IDEXUSDT', 'VIDTUSDT', 'USDPUSDT', 'GALAUSDT', 'ILVUSDT', 'YGGUSDT', 'SYSUSDT', 'DFUSDT', 'FIDAUSDT', 'FRONTUSDT', 'CVPUSDT', 'AGLDUSDT', 'RADUSDT', 'BETAUSDT', 'RAREUSDT', 'LAZIOUSDT', 'CHESSUSDT', 'ADXUSDT', 'AUCTIONUSDT', 'DARUSDT', 'BNXUSDT', 'RGTUSDT', 'MOVRUSDT', 'CITYUSDT', 'ENSUSDT', 'KP3RUSDT', 'QIUSDT']\n",
    "len(pairs)"
   ]
  },
  {
   "cell_type": "code",
   "execution_count": 70,
   "metadata": {},
   "outputs": [
    {
     "name": "stdout",
     "output_type": "stream",
     "text": [
      "ETHUSDT 49-BCCUSDT 56-NEOUSDT 44-LTCUSDT 49-QTUMUSDT 45-ADAUSDT 50-XRPUSDT 47-EOSUSDT 49-IOTAUSDT 60-XLMUSDT 41-ONTUSDT 52-TRXUSDT 46-ETCUSDT 45-ICXUSDT 47-NULSUSDT 42-VETUSDT 58-BCHUSDT 51-LINKUSDT 57-WAVESUSDT 50-BTTUSDT 44-ONGUSDT 51-HOTUSDT 48-ZILUSDT 56-ZRXUSDT 56-FETUSDT 46-BATUSDT 46-XMRUSDT 39-ZECUSDT 43-IOSTUSDT 53-CELRUSDT 46-DASHUSDT 50-NANOUSDT 44-OMGUSDT 46-THETAUSDT 55-ENJUSDT 43-MITHUSDT 47-MATICUSDT 63-ATOMUSDT 66-TFUELUSDT 59-ONEUSDT 59-FTMUSDT 55-ALGOUSDT 55-GTOUSDT 50-ERDUSDT 56-DOGEUSDT 47-DUSKUSDT 66-ANKRUSDT 47-WINUSDT 35-COSUSDT 48-NPXSUSDT 41-COCOSUSDT 54-MTLUSDT 47-TOMOUSDT 45-PERLUSDT 52-DENTUSDT 43-MFTUSDT 47-KEYUSDT 41-STORMUSDT 56-DOCKUSDT 49-WANUSDT 61-FUNUSDT 57-CVCUSDT 47-CHZUSDT 40-BANDUSDT 49-BEAMUSDT 48-XTZUSDT 75-RENUSDT 48-RVNUSDT 54-HCUSDT 38-HBARUSDT 65-NKNUSDT 53-STXUSDT 49-KAVAUSDT 52-ARPAUSDT 54-IOTXUSDT 44-RLCUSDT 49-MCOUSDT 49-CTXCUSDT 51-TROYUSDT 54-VITEUSDT 54-FTTUSDT 43-EURUSDT 50-OGNUSDT 59-DREPUSDT 62-BULLUSDT 42-BEARUSDT 51-ETHBULLUSDT 49-ETHBEARUSDT 43-TCTUSDT 43-WRXUSDT 69-BTSUSDT 50-LSKUSDT 55-BNTUSDT 61-LTOUSDT 56-EOSBULLUSDT 40-EOSBEARUSDT 55-XRPBULLUSDT 45-XRPBEARUSDT 51-STRATUSDT 19-AIONUSDT 43-MBLUSDT 37-COTIUSDT 55-BNBBULLUSDT 53-BNBBEARUSDT 39-STPTUSDT 48-WTCUSDT 52-DATAUSDT 49-XZCUSDT 69-SOLUSDT 58-CTSIUSDT 58-HIVEUSDT 41-CHRUSDT 44-GXSUSDT 37-ARDRUSDT 38-LENDUSDT 65-MDTUSDT 41-STMXUSDT 46-KNCUSDT 47-REPUSDT 47-LRCUSDT 78-PNTUSDT 49-COMPUSDT 60-BKRWUSDT 41-SCUSDT 48-ZENUSDT 52-SNXUSDT 69-VTHOUSDT 48-DGBUSDT 61-GBPUSDT 41-SXPUSDT 46-MKRUSDT 53-DAIUSDT 55-DCRUSDT 48-STORJUSDT 47-MANAUSDT 44-AUDUSDT 44-YFIUSDT 55-BALUSDT 45-BLZUSDT 49-IRISUSDT 41-KMDUSDT 55-JSTUSDT 48-SRMUSDT 54-ANTUSDT 47-CRVUSDT 41-SANDUSDT 37-OCEANUSDT 57-NMRUSDT 33-DOTUSDT 61-LUNAUSDT 61-RSRUSDT 51-PAXGUSDT 46-WNXMUSDT 59-TRBUSDT 53-BZRXUSDT 60-SUSHIUSDT 51-YFIIUSDT 47-KSMUSDT 50-EGLDUSDT 46-DIAUSDT 52-RUNEUSDT 40-FIOUSDT 48-UMAUSDT 62-BELUSDT 53-WINGUSDT 42-UNIUSDT 58-NBSUSDT 46-OXTUSDT 66-SUNUSDT 50-AVAXUSDT 52-HNTUSDT 53-FLMUSDT 47-ORNUSDT 34-UTKUSDT 50-XVSUSDT 63-ALPHAUSDT 44-AAVEUSDT 71-NEARUSDT 66-FILUSDT 45-INJUSDT 60-AUDIOUSDT 54-CTKUSDT 48-AKROUSDT 57-AXSUSDT 47-HARDUSDT 54-DNTUSDT 55-STRAXUSDT 53-UNFIUSDT 59-ROSEUSDT 70-AVAUSDT 45-XEMUSDT 50-SKLUSDT 41-SUSDUSDT 45-GRTUSDT 52-JUVUSDT 46-PSGUSDT 44-1INCHUSDT 53-REEFUSDT 48-OGUSDT 46-ATMUSDT 37-ASRUSDT 53-CELOUSDT 66-RIFUSDT 48-BTCSTUSDT 40-TRUUSDT 45-CKBUSDT 53-TWTUSDT 47-FIROUSDT 74-LITUSDT 53-SFPUSDT 64-DODOUSDT 64-CAKEUSDT 66-ACMUSDT 50-BADGERUSDT 67-FISUSDT 56-OMUSDT 50-PONDUSDT 47-DEGOUSDT 59-ALICEUSDT 47-LINAUSDT 52-PERPUSDT 53-RAMPUSDT 51-SUPERUSDT 52-CFXUSDT 58-EPSUSDT 56-AUTOUSDT 45-TKOUSDT 53-PUNDIXUSDT 48-TLMUSDT 46-BTGUSDT 42-MIRUSDT 75-BARUSDT 41-FORTHUSDT 56-BAKEUSDT 54-BURGERUSDT 46-SLPUSDT 43-SHIBUSDT 66-ICPUSDT 44-ARUSDT 60-POLSUSDT 61-MDXUSDT 42-MASKUSDT 45-LPTUSDT 40-NUUSDT 53-XVGUSDT 46-ATAUSDT 66-GTCUSDT 30-TORNUSDT 46-KEEPUSDT 79-ERNUSDT 30-KLAYUSDT 51-PHAUSDT 45-BONDUSDT 55-MLNUSDT 58-DEXEUSDT 43-C98USDT 74-CLVUSDT 54-QNTUSDT 53-FLOWUSDT 47-TVKUSDT 47-MINAUSDT 60-RAYUSDT 53-FARMUSDT 51-ALPACAUSDT 76-QUICKUSDT 61-MBOXUSDT 46-FORUSDT 46-REQUSDT 52-GHSTUSDT 54-WAXPUSDT 41-TRIBEUSDT 54-GNOUSDT 49-XECUSDT 48-ELFUSDT 53-DYDXUSDT 60-POLYUSDT 47-IDEXUSDT 49-VIDTUSDT 48-USDPUSDT 47-GALAUSDT 50-ILVUSDT 44-YGGUSDT 45-SYSUSDT 59-DFUSDT 44-FIDAUSDT 47-FRONTUSDT 65-CVPUSDT 54-AGLDUSDT 52-RADUSDT 34-BETAUSDT 56-RAREUSDT 52-LAZIOUSDT 48-CHESSUSDT 50-ADXUSDT 50-AUCTIONUSDT 43-DARUSDT 52-BNXUSDT 44-RGTUSDT 45-MOVRUSDT 52-CITYUSDT 53-ENSUSDT 62-KP3RUSDT 46-QIUSDT 44-"
     ]
    }
   ],
   "source": [
    "for i in pairs :\n",
    "    klines = client.get_klines(symbol=i, interval='15m', limit='50')\n",
    "    klines2 = client.get_historical_klines(i, Client.KLINE_INTERVAL_1MINUTE, \"1 day ago UTC\")\n",
    "    close = [float(entry[4]) for entry in klines]\n",
    "    close_array = np.asarray(close)\n",
    "    \n",
    "    rsi = computeRSI (close_array, 14)\n",
    "    print(i,rsi,end=\"-\")\n",
    "    if rsi < 40 :\n",
    "        #buy_other(i)\n",
    "        telegram_bot(f\"{i} rsi = {rsi} 30 alım emri girildi\")\n",
    "        "
   ]
  },
  {
   "cell_type": "code",
   "execution_count": null,
   "metadata": {},
   "outputs": [],
   "source": []
  }
 ],
 "metadata": {
  "interpreter": {
   "hash": "468f25ad0239460415b7e6b7483d5c8f7213894121f6fb96c4cb6ef93fffe534"
  },
  "kernelspec": {
   "display_name": "Python 3.9.6 64-bit",
   "language": "python",
   "name": "python3"
  },
  "language_info": {
   "codemirror_mode": {
    "name": "ipython",
    "version": 3
   },
   "file_extension": ".py",
   "mimetype": "text/x-python",
   "name": "python",
   "nbconvert_exporter": "python",
   "pygments_lexer": "ipython3",
   "version": "3.9.6"
  },
  "orig_nbformat": 4
 },
 "nbformat": 4,
 "nbformat_minor": 2
}
